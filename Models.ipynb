{
 "cells": [
  {
   "cell_type": "markdown",
   "metadata": {},
   "source": [
    "# Predicting Churn with various Models\n"
   ]
  },
  {
   "cell_type": "markdown",
   "metadata": {},
   "source": [
    "## Table of Contents\n",
    "* [Importing Libraries and Dataset](#import)\n",
    "* [Splitting into train and test and Standardize the data](#split)\n",
    "* [Principal Component Analysis](#pca)\n",
    "* [Building Models](#models)\n",
    "> * [Logistic Regression](#lr)\n",
    "> * [KNN](#knn)\n",
    "> * [Random Forest](#rfc)\n",
    "> * [Support Vector Machine](#svm)\n",
    "> * [Naive Bayes](#nbc)\n",
    "* [Comparing Models](#compare)"
   ]
  },
  {
   "cell_type": "markdown",
   "metadata": {},
   "source": [
    "<a id=\"import\"></a>"
   ]
  },
  {
   "cell_type": "markdown",
   "metadata": {},
   "source": [
    "### 1. Importing Libraries and Dataset"
   ]
  },
  {
   "cell_type": "code",
   "execution_count": 1,
   "metadata": {},
   "outputs": [],
   "source": [
    "import pandas as pd\n",
    "import numpy as np\n",
    "import matplotlib.pyplot as plt\n",
    "from sklearn.preprocessing import StandardScaler\n",
    "from sklearn.decomposition import PCA\n",
    "from sklearn.model_selection import train_test_split\n",
    "from sklearn.feature_selection import RFECV\n",
    "from sklearn.model_selection import StratifiedKFold\n",
    "from sklearn.model_selection import GridSearchCV\n",
    "from sklearn.linear_model import LogisticRegression\n",
    "from sklearn.neighbors import KNeighborsClassifier\n",
    "from sklearn.ensemble import RandomForestClassifier\n",
    "from sklearn.feature_selection import SelectFromModel\n",
    "from sklearn.svm import SVC\n",
    "from sklearn.naive_bayes import GaussianNB\n",
    "from sklearn.metrics import confusion_matrix,classification_report\n",
    "from sklearn.model_selection import cross_val_score\n",
    "from sklearn.metrics import roc_curve,auc\n"
   ]
  },
  {
   "cell_type": "code",
   "execution_count": 2,
   "metadata": {},
   "outputs": [
    {
     "data": {
      "text/html": [
       "<div>\n",
       "<style scoped>\n",
       "    .dataframe tbody tr th:only-of-type {\n",
       "        vertical-align: middle;\n",
       "    }\n",
       "\n",
       "    .dataframe tbody tr th {\n",
       "        vertical-align: top;\n",
       "    }\n",
       "\n",
       "    .dataframe thead th {\n",
       "        text-align: right;\n",
       "    }\n",
       "</style>\n",
       "<table border=\"1\" class=\"dataframe\">\n",
       "  <thead>\n",
       "    <tr style=\"text-align: right;\">\n",
       "      <th></th>\n",
       "      <th>gender</th>\n",
       "      <th>SeniorCitizen</th>\n",
       "      <th>Partner</th>\n",
       "      <th>Dependents</th>\n",
       "      <th>tenure</th>\n",
       "      <th>PhoneService</th>\n",
       "      <th>MultipleLines</th>\n",
       "      <th>OnlineSecurity</th>\n",
       "      <th>OnlineBackup</th>\n",
       "      <th>DeviceProtection</th>\n",
       "      <th>...</th>\n",
       "      <th>PaperlessBilling</th>\n",
       "      <th>MonthlyCharges</th>\n",
       "      <th>Churn</th>\n",
       "      <th>InternetService#DSL</th>\n",
       "      <th>InternetService#Fiber optic</th>\n",
       "      <th>Contract#Month-to-month</th>\n",
       "      <th>Contract#One year</th>\n",
       "      <th>PaymentMethod#Bank transfer (automatic)</th>\n",
       "      <th>PaymentMethod#Credit card (automatic)</th>\n",
       "      <th>PaymentMethod#Electronic check</th>\n",
       "    </tr>\n",
       "  </thead>\n",
       "  <tbody>\n",
       "    <tr>\n",
       "      <td>0</td>\n",
       "      <td>0.0</td>\n",
       "      <td>0.0</td>\n",
       "      <td>1.0</td>\n",
       "      <td>0.0</td>\n",
       "      <td>1.0</td>\n",
       "      <td>0.0</td>\n",
       "      <td>0.0</td>\n",
       "      <td>0.0</td>\n",
       "      <td>1.0</td>\n",
       "      <td>0.0</td>\n",
       "      <td>...</td>\n",
       "      <td>1.0</td>\n",
       "      <td>29.85</td>\n",
       "      <td>0.0</td>\n",
       "      <td>1.0</td>\n",
       "      <td>0.0</td>\n",
       "      <td>1.0</td>\n",
       "      <td>0.0</td>\n",
       "      <td>0.0</td>\n",
       "      <td>0.0</td>\n",
       "      <td>1.0</td>\n",
       "    </tr>\n",
       "    <tr>\n",
       "      <td>1</td>\n",
       "      <td>1.0</td>\n",
       "      <td>0.0</td>\n",
       "      <td>0.0</td>\n",
       "      <td>0.0</td>\n",
       "      <td>34.0</td>\n",
       "      <td>1.0</td>\n",
       "      <td>0.0</td>\n",
       "      <td>1.0</td>\n",
       "      <td>0.0</td>\n",
       "      <td>1.0</td>\n",
       "      <td>...</td>\n",
       "      <td>0.0</td>\n",
       "      <td>56.95</td>\n",
       "      <td>0.0</td>\n",
       "      <td>1.0</td>\n",
       "      <td>0.0</td>\n",
       "      <td>0.0</td>\n",
       "      <td>1.0</td>\n",
       "      <td>0.0</td>\n",
       "      <td>0.0</td>\n",
       "      <td>0.0</td>\n",
       "    </tr>\n",
       "    <tr>\n",
       "      <td>2</td>\n",
       "      <td>1.0</td>\n",
       "      <td>0.0</td>\n",
       "      <td>0.0</td>\n",
       "      <td>0.0</td>\n",
       "      <td>2.0</td>\n",
       "      <td>1.0</td>\n",
       "      <td>0.0</td>\n",
       "      <td>1.0</td>\n",
       "      <td>1.0</td>\n",
       "      <td>0.0</td>\n",
       "      <td>...</td>\n",
       "      <td>1.0</td>\n",
       "      <td>53.85</td>\n",
       "      <td>1.0</td>\n",
       "      <td>1.0</td>\n",
       "      <td>0.0</td>\n",
       "      <td>1.0</td>\n",
       "      <td>0.0</td>\n",
       "      <td>0.0</td>\n",
       "      <td>0.0</td>\n",
       "      <td>0.0</td>\n",
       "    </tr>\n",
       "    <tr>\n",
       "      <td>3</td>\n",
       "      <td>1.0</td>\n",
       "      <td>0.0</td>\n",
       "      <td>0.0</td>\n",
       "      <td>0.0</td>\n",
       "      <td>45.0</td>\n",
       "      <td>0.0</td>\n",
       "      <td>0.0</td>\n",
       "      <td>1.0</td>\n",
       "      <td>0.0</td>\n",
       "      <td>1.0</td>\n",
       "      <td>...</td>\n",
       "      <td>0.0</td>\n",
       "      <td>42.30</td>\n",
       "      <td>0.0</td>\n",
       "      <td>1.0</td>\n",
       "      <td>0.0</td>\n",
       "      <td>0.0</td>\n",
       "      <td>1.0</td>\n",
       "      <td>1.0</td>\n",
       "      <td>0.0</td>\n",
       "      <td>0.0</td>\n",
       "    </tr>\n",
       "    <tr>\n",
       "      <td>4</td>\n",
       "      <td>0.0</td>\n",
       "      <td>0.0</td>\n",
       "      <td>0.0</td>\n",
       "      <td>0.0</td>\n",
       "      <td>2.0</td>\n",
       "      <td>1.0</td>\n",
       "      <td>0.0</td>\n",
       "      <td>0.0</td>\n",
       "      <td>0.0</td>\n",
       "      <td>0.0</td>\n",
       "      <td>...</td>\n",
       "      <td>1.0</td>\n",
       "      <td>70.70</td>\n",
       "      <td>1.0</td>\n",
       "      <td>0.0</td>\n",
       "      <td>1.0</td>\n",
       "      <td>1.0</td>\n",
       "      <td>0.0</td>\n",
       "      <td>0.0</td>\n",
       "      <td>0.0</td>\n",
       "      <td>1.0</td>\n",
       "    </tr>\n",
       "    <tr>\n",
       "      <td>...</td>\n",
       "      <td>...</td>\n",
       "      <td>...</td>\n",
       "      <td>...</td>\n",
       "      <td>...</td>\n",
       "      <td>...</td>\n",
       "      <td>...</td>\n",
       "      <td>...</td>\n",
       "      <td>...</td>\n",
       "      <td>...</td>\n",
       "      <td>...</td>\n",
       "      <td>...</td>\n",
       "      <td>...</td>\n",
       "      <td>...</td>\n",
       "      <td>...</td>\n",
       "      <td>...</td>\n",
       "      <td>...</td>\n",
       "      <td>...</td>\n",
       "      <td>...</td>\n",
       "      <td>...</td>\n",
       "      <td>...</td>\n",
       "      <td>...</td>\n",
       "    </tr>\n",
       "    <tr>\n",
       "      <td>7038</td>\n",
       "      <td>1.0</td>\n",
       "      <td>0.0</td>\n",
       "      <td>1.0</td>\n",
       "      <td>1.0</td>\n",
       "      <td>24.0</td>\n",
       "      <td>1.0</td>\n",
       "      <td>1.0</td>\n",
       "      <td>1.0</td>\n",
       "      <td>0.0</td>\n",
       "      <td>1.0</td>\n",
       "      <td>...</td>\n",
       "      <td>1.0</td>\n",
       "      <td>84.80</td>\n",
       "      <td>0.0</td>\n",
       "      <td>1.0</td>\n",
       "      <td>0.0</td>\n",
       "      <td>0.0</td>\n",
       "      <td>1.0</td>\n",
       "      <td>0.0</td>\n",
       "      <td>0.0</td>\n",
       "      <td>0.0</td>\n",
       "    </tr>\n",
       "    <tr>\n",
       "      <td>7039</td>\n",
       "      <td>0.0</td>\n",
       "      <td>0.0</td>\n",
       "      <td>1.0</td>\n",
       "      <td>1.0</td>\n",
       "      <td>72.0</td>\n",
       "      <td>1.0</td>\n",
       "      <td>1.0</td>\n",
       "      <td>0.0</td>\n",
       "      <td>1.0</td>\n",
       "      <td>1.0</td>\n",
       "      <td>...</td>\n",
       "      <td>1.0</td>\n",
       "      <td>103.20</td>\n",
       "      <td>0.0</td>\n",
       "      <td>0.0</td>\n",
       "      <td>1.0</td>\n",
       "      <td>0.0</td>\n",
       "      <td>1.0</td>\n",
       "      <td>0.0</td>\n",
       "      <td>1.0</td>\n",
       "      <td>0.0</td>\n",
       "    </tr>\n",
       "    <tr>\n",
       "      <td>7040</td>\n",
       "      <td>0.0</td>\n",
       "      <td>0.0</td>\n",
       "      <td>1.0</td>\n",
       "      <td>1.0</td>\n",
       "      <td>11.0</td>\n",
       "      <td>0.0</td>\n",
       "      <td>0.0</td>\n",
       "      <td>1.0</td>\n",
       "      <td>0.0</td>\n",
       "      <td>0.0</td>\n",
       "      <td>...</td>\n",
       "      <td>1.0</td>\n",
       "      <td>29.60</td>\n",
       "      <td>0.0</td>\n",
       "      <td>1.0</td>\n",
       "      <td>0.0</td>\n",
       "      <td>1.0</td>\n",
       "      <td>0.0</td>\n",
       "      <td>0.0</td>\n",
       "      <td>0.0</td>\n",
       "      <td>1.0</td>\n",
       "    </tr>\n",
       "    <tr>\n",
       "      <td>7041</td>\n",
       "      <td>1.0</td>\n",
       "      <td>1.0</td>\n",
       "      <td>1.0</td>\n",
       "      <td>0.0</td>\n",
       "      <td>4.0</td>\n",
       "      <td>1.0</td>\n",
       "      <td>1.0</td>\n",
       "      <td>0.0</td>\n",
       "      <td>0.0</td>\n",
       "      <td>0.0</td>\n",
       "      <td>...</td>\n",
       "      <td>1.0</td>\n",
       "      <td>74.40</td>\n",
       "      <td>1.0</td>\n",
       "      <td>0.0</td>\n",
       "      <td>1.0</td>\n",
       "      <td>1.0</td>\n",
       "      <td>0.0</td>\n",
       "      <td>0.0</td>\n",
       "      <td>0.0</td>\n",
       "      <td>0.0</td>\n",
       "    </tr>\n",
       "    <tr>\n",
       "      <td>7042</td>\n",
       "      <td>1.0</td>\n",
       "      <td>0.0</td>\n",
       "      <td>0.0</td>\n",
       "      <td>0.0</td>\n",
       "      <td>66.0</td>\n",
       "      <td>1.0</td>\n",
       "      <td>0.0</td>\n",
       "      <td>1.0</td>\n",
       "      <td>0.0</td>\n",
       "      <td>1.0</td>\n",
       "      <td>...</td>\n",
       "      <td>1.0</td>\n",
       "      <td>105.65</td>\n",
       "      <td>0.0</td>\n",
       "      <td>0.0</td>\n",
       "      <td>1.0</td>\n",
       "      <td>0.0</td>\n",
       "      <td>0.0</td>\n",
       "      <td>1.0</td>\n",
       "      <td>0.0</td>\n",
       "      <td>0.0</td>\n",
       "    </tr>\n",
       "  </tbody>\n",
       "</table>\n",
       "<p>7032 rows × 23 columns</p>\n",
       "</div>"
      ],
      "text/plain": [
       "      gender  SeniorCitizen  Partner  Dependents  tenure  PhoneService  \\\n",
       "0        0.0            0.0      1.0         0.0     1.0           0.0   \n",
       "1        1.0            0.0      0.0         0.0    34.0           1.0   \n",
       "2        1.0            0.0      0.0         0.0     2.0           1.0   \n",
       "3        1.0            0.0      0.0         0.0    45.0           0.0   \n",
       "4        0.0            0.0      0.0         0.0     2.0           1.0   \n",
       "...      ...            ...      ...         ...     ...           ...   \n",
       "7038     1.0            0.0      1.0         1.0    24.0           1.0   \n",
       "7039     0.0            0.0      1.0         1.0    72.0           1.0   \n",
       "7040     0.0            0.0      1.0         1.0    11.0           0.0   \n",
       "7041     1.0            1.0      1.0         0.0     4.0           1.0   \n",
       "7042     1.0            0.0      0.0         0.0    66.0           1.0   \n",
       "\n",
       "      MultipleLines  OnlineSecurity  OnlineBackup  DeviceProtection  ...  \\\n",
       "0               0.0             0.0           1.0               0.0  ...   \n",
       "1               0.0             1.0           0.0               1.0  ...   \n",
       "2               0.0             1.0           1.0               0.0  ...   \n",
       "3               0.0             1.0           0.0               1.0  ...   \n",
       "4               0.0             0.0           0.0               0.0  ...   \n",
       "...             ...             ...           ...               ...  ...   \n",
       "7038            1.0             1.0           0.0               1.0  ...   \n",
       "7039            1.0             0.0           1.0               1.0  ...   \n",
       "7040            0.0             1.0           0.0               0.0  ...   \n",
       "7041            1.0             0.0           0.0               0.0  ...   \n",
       "7042            0.0             1.0           0.0               1.0  ...   \n",
       "\n",
       "      PaperlessBilling  MonthlyCharges  Churn  InternetService#DSL  \\\n",
       "0                  1.0           29.85    0.0                  1.0   \n",
       "1                  0.0           56.95    0.0                  1.0   \n",
       "2                  1.0           53.85    1.0                  1.0   \n",
       "3                  0.0           42.30    0.0                  1.0   \n",
       "4                  1.0           70.70    1.0                  0.0   \n",
       "...                ...             ...    ...                  ...   \n",
       "7038               1.0           84.80    0.0                  1.0   \n",
       "7039               1.0          103.20    0.0                  0.0   \n",
       "7040               1.0           29.60    0.0                  1.0   \n",
       "7041               1.0           74.40    1.0                  0.0   \n",
       "7042               1.0          105.65    0.0                  0.0   \n",
       "\n",
       "      InternetService#Fiber optic  Contract#Month-to-month  Contract#One year  \\\n",
       "0                             0.0                      1.0                0.0   \n",
       "1                             0.0                      0.0                1.0   \n",
       "2                             0.0                      1.0                0.0   \n",
       "3                             0.0                      0.0                1.0   \n",
       "4                             1.0                      1.0                0.0   \n",
       "...                           ...                      ...                ...   \n",
       "7038                          0.0                      0.0                1.0   \n",
       "7039                          1.0                      0.0                1.0   \n",
       "7040                          0.0                      1.0                0.0   \n",
       "7041                          1.0                      1.0                0.0   \n",
       "7042                          1.0                      0.0                0.0   \n",
       "\n",
       "      PaymentMethod#Bank transfer (automatic)  \\\n",
       "0                                         0.0   \n",
       "1                                         0.0   \n",
       "2                                         0.0   \n",
       "3                                         1.0   \n",
       "4                                         0.0   \n",
       "...                                       ...   \n",
       "7038                                      0.0   \n",
       "7039                                      0.0   \n",
       "7040                                      0.0   \n",
       "7041                                      0.0   \n",
       "7042                                      1.0   \n",
       "\n",
       "      PaymentMethod#Credit card (automatic)  PaymentMethod#Electronic check  \n",
       "0                                       0.0                             1.0  \n",
       "1                                       0.0                             0.0  \n",
       "2                                       0.0                             0.0  \n",
       "3                                       0.0                             0.0  \n",
       "4                                       0.0                             1.0  \n",
       "...                                     ...                             ...  \n",
       "7038                                    0.0                             0.0  \n",
       "7039                                    1.0                             0.0  \n",
       "7040                                    0.0                             1.0  \n",
       "7041                                    0.0                             0.0  \n",
       "7042                                    0.0                             0.0  \n",
       "\n",
       "[7032 rows x 23 columns]"
      ]
     },
     "execution_count": 2,
     "metadata": {},
     "output_type": "execute_result"
    }
   ],
   "source": [
    "dataset = pd.read_csv('Telco-Customer-Churn_2.csv',index_col=[0])\n",
    "dataset"
   ]
  },
  {
   "cell_type": "markdown",
   "metadata": {},
   "source": [
    "<a id=\"split\"></a>"
   ]
  },
  {
   "cell_type": "markdown",
   "metadata": {},
   "source": [
    "### 2. Splitting into train and test and Standardize the data"
   ]
  },
  {
   "cell_type": "markdown",
   "metadata": {},
   "source": [
    "Spliting the Independent and Dependent variables"
   ]
  },
  {
   "cell_type": "code",
   "execution_count": 3,
   "metadata": {},
   "outputs": [],
   "source": [
    "y = dataset.Churn.values\n",
    "X = dataset.drop(['Churn'],axis=1)"
   ]
  },
  {
   "cell_type": "code",
   "execution_count": 4,
   "metadata": {},
   "outputs": [],
   "source": [
    "X_train, X_test, y_train, y_test = train_test_split(X, y, test_size = 0.2, random_state = 42)"
   ]
  },
  {
   "cell_type": "code",
   "execution_count": 5,
   "metadata": {},
   "outputs": [],
   "source": [
    "sc = StandardScaler()\n",
    "X_train = sc.fit_transform(X_train)\n",
    "X_test = sc.transform(X_test)\n"
   ]
  },
  {
   "cell_type": "markdown",
   "metadata": {},
   "source": [
    "<a id=\"pca\"></a>"
   ]
  },
  {
   "cell_type": "markdown",
   "metadata": {},
   "source": [
    "### 3. Principal Component Analysis \n",
    "Surprisingly, PCA reveals that almost all the components are needed to define maximum variance in the data.\n",
    "We can reduce dimensionality by setting the n_components to around 20 and transforming our train and test sets. I chose to continue with the default set of components."
   ]
  },
  {
   "cell_type": "code",
   "execution_count": 6,
   "metadata": {},
   "outputs": [
    {
     "data": {
      "image/png": "[encoded data removed]",
      "text/plain": [
       "<Figure size 432x288 with 1 Axes>"
      ]
     },
     "metadata": {
      "needs_background": "light"
     },
     "output_type": "display_data"
    }
   ],
   "source": [
    "pca = PCA(n_components =None)\n",
    "X_train = pca.fit_transform(X_train)\n",
    "X_test = pca.transform(X_test)\n",
    "explained_variance = pca.explained_variance_ratio_\n",
    "plt.figure()\n",
    "plt.plot(np.cumsum(pca.explained_variance_ratio_))\n",
    "plt.xlabel('Number of Components')\n",
    "plt.ylabel('Variance (%)') #for each component\n",
    "plt.title('Dataset Explained Variance')\n",
    "plt.show()\n"
   ]
  },
  {
   "cell_type": "markdown",
   "metadata": {},
   "source": [
    "<a id=\"models\"></a>"
   ]
  },
  {
   "cell_type": "markdown",
   "metadata": {},
   "source": [
    "## 4. Building Models"
   ]
  },
  {
   "cell_type": "markdown",
   "metadata": {},
   "source": [
    "<a id=\"lr\"></a>"
   ]
  },
  {
   "cell_type": "markdown",
   "metadata": {},
   "source": [
    "### 4.1 Logistic Regression "
   ]
  },
  {
   "cell_type": "markdown",
   "metadata": {},
   "source": [
    "#### 4.1.1 Recursive Feature Elimination\n",
    "Selecting minimum number of features which give the maximum cross val accuracy."
   ]
  },
  {
   "cell_type": "code",
   "execution_count": 7,
   "metadata": {},
   "outputs": [
    {
     "name": "stdout",
     "output_type": "stream",
     "text": [
      "Optimal number of features : 17\n"
     ]
    },
    {
     "data": {
      "image/png": "[encoded data removed]",
      "text/plain": [
       "<Figure size 1080x576 with 1 Axes>"
      ]
     },
     "metadata": {
      "needs_background": "light"
     },
     "output_type": "display_data"
    },
    {
     "name": "stdout",
     "output_type": "stream",
     "text": [
      "Index(['gender', 'SeniorCitizen', 'Partner', 'tenure', 'OnlineBackup',\n",
      "       'DeviceProtection', 'TechSupport', 'StreamingTV', 'StreamingMovies',\n",
      "       'PaperlessBilling', 'MonthlyCharges', 'InternetService#DSL',\n",
      "       'InternetService#Fiber optic', 'Contract#Month-to-month',\n",
      "       'Contract#One year', 'PaymentMethod#Credit card (automatic)',\n",
      "       'PaymentMethod#Electronic check'],\n",
      "      dtype='object')\n"
     ]
    }
   ],
   "source": [
    "lr= LogisticRegression(penalty='l2',C=.1,solver='newton-cg',random_state=0)\n",
    "selector = RFECV(estimator = lr ,step =1 , cv=StratifiedKFold(10),scoring='accuracy')\n",
    "selector.fit(X_train,y_train)\n",
    "print(\"Optimal number of features : %d\" % selector.n_features_)\n",
    "plt.figure(figsize=(15,8))\n",
    "plt.xlabel(\"Number of features selected\")\n",
    "plt.ylabel(\"Cross validation score\")\n",
    "plt.plot(range(1, len(selector.grid_scores_) + 1), selector.grid_scores_)\n",
    "plt.show()\n",
    "#classifier.fit(X_train, y_train)\n",
    "selected = X.columns[(selector.get_support())]\n",
    "print(selected)\n",
    "X_opt = selector.transform(X_train)\n",
    "X_t_opt = selector.transform(X_test)"
   ]
  },
  {
   "cell_type": "markdown",
   "metadata": {},
   "source": [
    "#### 4.1.2 Grid Search"
   ]
  },
  {
   "cell_type": "code",
   "execution_count": 8,
   "metadata": {},
   "outputs": [
    {
     "name": "stdout",
     "output_type": "stream",
     "text": [
      "Best Accuracy 0.8048\n",
      "Best Parameters {'C': 25, 'class_weight': 'dict', 'penalty': 'l2', 'solver': 'newton-cg'}\n"
     ]
    }
   ],
   "source": [
    "lr = LogisticRegression(random_state=0)\n",
    "parameters = [{'penalty':['l2'], 'solver': ['newton-cg','lbfgs','sag','saga'],'C': [0.001,0.009,0.01,0.09,1,5,10,25],\n",
    "               'class_weight':['balanced','dict']},\n",
    "            {'penalty':['l1'],'solver':['liblinear','saga'],'C': [0.001,0.009,0.01,0.09,1,5,10,25]}]\n",
    "grid_search = GridSearchCV(estimator = lr,\n",
    "                           param_grid = parameters,\n",
    "                           scoring = 'accuracy',\n",
    "                           cv = 10,\n",
    "                           n_jobs = -1)\n",
    "grid_search = grid_search.fit(X_opt, y_train)\n",
    "best_accuracy = grid_search.best_score_\n",
    "best_parameters = grid_search.best_params_\n",
    "print(\"Best Accuracy \"+str(best_accuracy))\n",
    "print(\"Best Parameters \"+str(best_parameters))\n"
   ]
  },
  {
   "cell_type": "markdown",
   "metadata": {},
   "source": [
    "#### 4.1.3 Fitting the model"
   ]
  },
  {
   "cell_type": "code",
   "execution_count": 9,
   "metadata": {},
   "outputs": [
    {
     "name": "stdout",
     "output_type": "stream",
     "text": [
      "training accuracy 80.6\n",
      "testing accuracy 79.2\n"
     ]
    }
   ],
   "source": [
    "lr = LogisticRegression(penalty='l2',C=25,random_state=0,class_weight='dict',solver='newton-cg')\n",
    "lr.fit(X_opt,y_train)\n",
    "y_pred = lr.predict(X_t_opt)\n",
    "train = round((lr.score(X_opt,y_train))*100,1)\n",
    "test = round((lr.score(X_t_opt,y_test))*100,1)\n",
    "print(\"training accuracy \" + str(train))\n",
    "print(\"testing accuracy \" + str(test))"
   ]
  },
  {
   "cell_type": "markdown",
   "metadata": {},
   "source": [
    "#### 4.1.4 Cross Validation"
   ]
  },
  {
   "cell_type": "code",
   "execution_count": 10,
   "metadata": {},
   "outputs": [
    {
     "name": "stdout",
     "output_type": "stream",
     "text": [
      "[[920 113]\n",
      " [180 194]]\n",
      "              precision    recall  f1-score   support\n",
      "\n",
      "         0.0       0.84      0.89      0.86      1033\n",
      "         1.0       0.63      0.52      0.57       374\n",
      "\n",
      "    accuracy                           0.79      1407\n",
      "   macro avg       0.73      0.70      0.72      1407\n",
      "weighted avg       0.78      0.79      0.78      1407\n",
      "\n",
      "Cross Validation Score 80.44506109239397\n"
     ]
    }
   ],
   "source": [
    "accuracies = cross_val_score(estimator = lr, X = X_train, y = y_train, cv = 10)\n",
    "cm = confusion_matrix(y_test, y_pred)\n",
    "print(cm)\n",
    "cr = classification_report(y_test,y_pred)\n",
    "print(cr)\n",
    "print(\"Cross Validation Score \" + str(accuracies.mean()*100))"
   ]
  },
  {
   "cell_type": "markdown",
   "metadata": {},
   "source": [
    "<a id=\"knn\"></a>"
   ]
  },
  {
   "cell_type": "markdown",
   "metadata": {},
   "source": [
    "### 4.2 K Neighbors Classifier"
   ]
  },
  {
   "cell_type": "markdown",
   "metadata": {},
   "source": [
    "#### 4.2.1 Grid Search"
   ]
  },
  {
   "cell_type": "code",
   "execution_count": 11,
   "metadata": {},
   "outputs": [
    {
     "name": "stdout",
     "output_type": "stream",
     "text": [
      "Best Accuracy 0.7925333333333333\n",
      "Best Parameters {'metric': 'minkowski', 'n_neighbors': 20, 'p': 2, 'weights': 'uniform'}\n"
     ]
    }
   ],
   "source": [
    "knn = KNeighborsClassifier()\n",
    "parameters = [{'n_neighbors': [2,5, 10, 15, 20], 'weights': ['uniform','distance'],\n",
    "               'p' :[1,2,3],'metric':['minkowski','euclidean','manhattan']}]\n",
    "grid_search = GridSearchCV(estimator = knn,\n",
    "                           param_grid = parameters,\n",
    "                           scoring = 'accuracy',\n",
    "                           cv = 10,\n",
    "                           n_jobs = -1)\n",
    "grid_search = grid_search.fit(X_train, y_train)\n",
    "best_accuracy = grid_search.best_score_\n",
    "best_parameters = grid_search.best_params_\n",
    "print(\"Best Accuracy \"+str(best_accuracy))\n",
    "print(\"Best Parameters \"+str(best_parameters))"
   ]
  },
  {
   "cell_type": "markdown",
   "metadata": {},
   "source": [
    "#### 4.2.2 Fitting the model"
   ]
  },
  {
   "cell_type": "code",
   "execution_count": 12,
   "metadata": {},
   "outputs": [
    {
     "name": "stdout",
     "output_type": "stream",
     "text": [
      "training accuracy 80.8\n",
      "testing accuracy76.6\n"
     ]
    }
   ],
   "source": [
    "knn = KNeighborsClassifier(metric='minkowski',n_neighbors=20,p=2,weights='uniform')\n",
    "knn.fit(X_train, y_train)\n",
    "train = round((knn.score(X_train,y_train))*100,1)\n",
    "test = round((knn.score(X_test,y_test))*100,1)\n",
    "y_pred = knn.predict(X_test)\n",
    "print(\"training accuracy \" + str(train))\n",
    "print(\"testing accuracy\" + str(test))"
   ]
  },
  {
   "cell_type": "markdown",
   "metadata": {},
   "source": [
    "#### 4.2.3 Cross Validation"
   ]
  },
  {
   "cell_type": "code",
   "execution_count": 13,
   "metadata": {},
   "outputs": [
    {
     "name": "stdout",
     "output_type": "stream",
     "text": [
      "[[894 139]\n",
      " [190 184]]\n",
      "              precision    recall  f1-score   support\n",
      "\n",
      "         0.0       0.82      0.87      0.84      1033\n",
      "         1.0       0.57      0.49      0.53       374\n",
      "\n",
      "    accuracy                           0.77      1407\n",
      "   macro avg       0.70      0.68      0.69      1407\n",
      "weighted avg       0.76      0.77      0.76      1407\n",
      "\n",
      "Cross Validation Score 79.25361718804321\n"
     ]
    }
   ],
   "source": [
    "accuracies = cross_val_score(estimator = knn, X = X_train, y = y_train, cv = 10)\n",
    "cm = confusion_matrix(y_test, y_pred)\n",
    "print(cm)\n",
    "cr = classification_report(y_test,y_pred)\n",
    "print(cr)\n",
    "print(\"Cross Validation Score \" + str(accuracies.mean()*100))"
   ]
  },
  {
   "cell_type": "markdown",
   "metadata": {},
   "source": [
    "<a id=\"rfc\"></a>"
   ]
  },
  {
   "cell_type": "markdown",
   "metadata": {},
   "source": [
    "### 4.3 Random Forest Classifier"
   ]
  },
  {
   "cell_type": "markdown",
   "metadata": {},
   "source": [
    "#### 4.3.1 Random Forest Feature Selection\n",
    "Achieves maximum dimensionality reduction with a minor compromise in accuracy."
   ]
  },
  {
   "cell_type": "code",
   "execution_count": 14,
   "metadata": {},
   "outputs": [
    {
     "name": "stdout",
     "output_type": "stream",
     "text": [
      "Important Features\n",
      "Feature 1 : SeniorCitizen\n",
      "Feature 2 : Partner\n"
     ]
    }
   ],
   "source": [
    "rfc = RandomForestClassifier(random_state=0,n_estimators=1000)\n",
    "rfc.fit(X_train,y_train)\n",
    "importances = rfc.feature_importances_\n",
    "f_importances = pd.Series(importances, X.columns)\n",
    "f_importances.sort_values(ascending=False, inplace=True)\n",
    "f_importances\n",
    "feat_labels = ['gender','SeniorCitizen','Partner','Dependents','tenure','PhoneService','MultipleLines','OnlineSecurity','OnlineBackup',\n",
    "               'DeviceProtection','TechSupport','StreamingTV','StreamingMovies','PaperlessBilling','MonthlyCharges','InternerService#DSL',\n",
    "               'InternetService#Fiber optic','Contract#Month-to-month','Contract#One year','PaymentMethod#Bank transfer','PaymentMethod#Credit card',\n",
    "               'PaymentMethod#Electronic check']\n",
    "sfm = SelectFromModel(rfc, threshold=0.06)\n",
    "sfm.fit(X_train, y_train)\n",
    "print(\"Important Features\")\n",
    "for feature_list_index in sfm.get_support(indices=True):\n",
    "    print(\"Feature \"+ str(feature_list_index) + \" : \" + feat_labels[feature_list_index])\n",
    "X_rfc_opt = sfm.transform(X_train)\n",
    "X_t_rfc_opt = sfm.transform(X_test)"
   ]
  },
  {
   "cell_type": "markdown",
   "metadata": {},
   "source": [
    "#### 4.3.2 Fitting the model"
   ]
  },
  {
   "cell_type": "code",
   "execution_count": 15,
   "metadata": {},
   "outputs": [
    {
     "name": "stdout",
     "output_type": "stream",
     "text": [
      "training accuracy 99.7\n",
      "testing accuracy75.1\n"
     ]
    }
   ],
   "source": [
    "rfc = RandomForestClassifier(n_estimators=1000,random_state=0,n_jobs=-1)\n",
    "#classifier = RandomForestClassifier(random_state=0,n_estimators=1000,criterion=\"gini\")\n",
    "rfc.fit(X_rfc_opt, y_train)\n",
    "train = round((rfc.score(X_rfc_opt,y_train))*100,1)\n",
    "test = round((rfc.score(X_t_rfc_opt,y_test))*100,1)\n",
    "y_pred = rfc.predict(X_t_rfc_opt)\n",
    "print(\"training accuracy \" + str(train))\n",
    "print(\"testing accuracy\" + str(test))\n"
   ]
  },
  {
   "cell_type": "markdown",
   "metadata": {},
   "source": [
    "#### 4.3.3 Cross Validation"
   ]
  },
  {
   "cell_type": "code",
   "execution_count": 16,
   "metadata": {},
   "outputs": [
    {
     "name": "stdout",
     "output_type": "stream",
     "text": [
      "[[886 147]\n",
      " [204 170]]\n",
      "              precision    recall  f1-score   support\n",
      "\n",
      "         0.0       0.81      0.86      0.83      1033\n",
      "         1.0       0.54      0.45      0.49       374\n",
      "\n",
      "    accuracy                           0.75      1407\n",
      "   macro avg       0.67      0.66      0.66      1407\n",
      "weighted avg       0.74      0.75      0.74      1407\n",
      "\n",
      "Cross Validation Score 75.64445680549674\n"
     ]
    }
   ],
   "source": [
    "accuracies = cross_val_score(estimator = rfc, X = X_rfc_opt, y = y_train, cv = 10)\n",
    "cm = confusion_matrix(y_test, y_pred)\n",
    "print(cm)\n",
    "cr = classification_report(y_test,y_pred)\n",
    "print(cr)\n",
    "print(\"Cross Validation Score \" + str(accuracies.mean()*100))"
   ]
  },
  {
   "cell_type": "markdown",
   "metadata": {},
   "source": [
    "<a id=\"svm\"></a>"
   ]
  },
  {
   "cell_type": "markdown",
   "metadata": {},
   "source": [
    "### 4.4 Kernel SVM"
   ]
  },
  {
   "cell_type": "markdown",
   "metadata": {},
   "source": [
    "#### 4.4.1 Fitting the model"
   ]
  },
  {
   "cell_type": "code",
   "execution_count": 17,
   "metadata": {},
   "outputs": [
    {
     "name": "stdout",
     "output_type": "stream",
     "text": [
      "training accuracy 82.3\n",
      "testing accuracy78.0\n"
     ]
    }
   ],
   "source": [
    "svm = SVC(kernel='rbf',random_state=0,probability=True,gamma='auto').fit(X_train,y_train)\n",
    "y_pred = svm.predict(X_test)\n",
    "train = round((svm.score(X_train,y_train))*100,1)\n",
    "test = round((svm.score(X_test,y_test))*100,1)\n",
    "print(\"training accuracy \" + str(train))\n",
    "print(\"testing accuracy\" + str(test))\n"
   ]
  },
  {
   "cell_type": "markdown",
   "metadata": {},
   "source": [
    "#### 4.4.2 Cross Validation"
   ]
  },
  {
   "cell_type": "code",
   "execution_count": 18,
   "metadata": {},
   "outputs": [
    {
     "name": "stdout",
     "output_type": "stream",
     "text": [
      "[[919 114]\n",
      " [195 179]]\n",
      "              precision    recall  f1-score   support\n",
      "\n",
      "         0.0       0.82      0.89      0.86      1033\n",
      "         1.0       0.61      0.48      0.54       374\n",
      "\n",
      "    accuracy                           0.78      1407\n",
      "   macro avg       0.72      0.68      0.70      1407\n",
      "weighted avg       0.77      0.78      0.77      1407\n",
      "\n",
      "Cross Validation Score 80.03577681839155\n"
     ]
    }
   ],
   "source": [
    "accuracies = cross_val_score(estimator = svm, X = X_train, y = y_train, cv = 10)\n",
    "cm = confusion_matrix(y_test, y_pred)\n",
    "print(cm)\n",
    "cr = classification_report(y_test,y_pred)\n",
    "print(cr)\n",
    "print(\"Cross Validation Score \" + str(accuracies.mean()*100))"
   ]
  },
  {
   "cell_type": "markdown",
   "metadata": {},
   "source": [
    "<a id=\"nbc\"></a>"
   ]
  },
  {
   "cell_type": "markdown",
   "metadata": {},
   "source": [
    "### 4.5 Gaussian Naive Bayes"
   ]
  },
  {
   "cell_type": "markdown",
   "metadata": {},
   "source": [
    "#### 4.5.1 Fitting the model"
   ]
  },
  {
   "cell_type": "code",
   "execution_count": 19,
   "metadata": {},
   "outputs": [
    {
     "name": "stdout",
     "output_type": "stream",
     "text": [
      "training accuracy 79.1\n",
      "testing accuracy77.1\n"
     ]
    }
   ],
   "source": [
    "nbc = GaussianNB().fit(X_train,y_train)\n",
    "y_pred = nbc.predict(X_test)\n",
    "train = round((nbc.score(X_train,y_train))*100,1)\n",
    "test = round((nbc.score(X_test,y_test))*100,1)\n",
    "print(\"training accuracy \" + str(train))\n",
    "print(\"testing accuracy\" + str(test))\n"
   ]
  },
  {
   "cell_type": "markdown",
   "metadata": {},
   "source": [
    "#### 4.5.2 Cross Validation"
   ]
  },
  {
   "cell_type": "code",
   "execution_count": 20,
   "metadata": {},
   "outputs": [
    {
     "name": "stdout",
     "output_type": "stream",
     "text": [
      "[[886 147]\n",
      " [175 199]]\n",
      "              precision    recall  f1-score   support\n",
      "\n",
      "         0.0       0.84      0.86      0.85      1033\n",
      "         1.0       0.58      0.53      0.55       374\n",
      "\n",
      "    accuracy                           0.77      1407\n",
      "   macro avg       0.71      0.69      0.70      1407\n",
      "weighted avg       0.77      0.77      0.77      1407\n",
      "\n",
      "Cross Validation Score 78.98690290323192\n"
     ]
    }
   ],
   "source": [
    "accuracies = cross_val_score(estimator = nbc, X = X_train, y = y_train, cv = 10)\n",
    "\n",
    "cm = confusion_matrix(y_test, y_pred)\n",
    "print(cm)\n",
    "cr = classification_report(y_test,y_pred)\n",
    "print(cr)\n",
    "print(\"Cross Validation Score \" + str(accuracies.mean()*100))"
   ]
  },
  {
   "cell_type": "markdown",
   "metadata": {},
   "source": [
    "<a id=\"compare\"></a>"
   ]
  },
  {
   "cell_type": "markdown",
   "metadata": {},
   "source": [
    "## 5. Comparing Models"
   ]
  },
  {
   "cell_type": "code",
   "execution_count": 21,
   "metadata": {},
   "outputs": [
    {
     "data": {
      "text/plain": [
       "<matplotlib.legend.Legend at 0x1365df0f9c8>"
      ]
     },
     "execution_count": 21,
     "metadata": {},
     "output_type": "execute_result"
    },
    {
     "data": {
      "image/png": "[encoded data removed]",
      "text/plain": [
       "<Figure size 1440x864 with 1 Axes>"
      ]
     },
     "metadata": {
      "needs_background": "light"
     },
     "output_type": "display_data"
    }
   ],
   "source": [
    "plt.figure(figsize=(20,12))\n",
    "plt.plot([0,1],[0,1],'r--')\n",
    "# LR\n",
    "probs = lr.predict_proba(X_t_opt)\n",
    "probs = probs[:,1]\n",
    "fpr, tpr , thresholds = roc_curve(y_test,probs)\n",
    "roc_auc = auc(fpr,tpr)\n",
    "label_ = 'Logistic Regression Classifier AUC '+'{0:.2f}'.format(roc_auc)\n",
    "plt.plot(fpr,tpr,c='g',label=label_, linewidth =4)\n",
    "# KNN\n",
    "probs = knn.predict_proba(X_test)\n",
    "probs = probs[:,1]\n",
    "fpr, tpr , thresholds = roc_curve(y_test,probs)\n",
    "roc_auc = auc(fpr,tpr)\n",
    "label = 'KNN Classifier AUC '+'{0:.2f}'.format(roc_auc)\n",
    "plt.plot(fpr,tpr,c='c',label=label, linewidth =4)\n",
    "# RFC\n",
    "probs = rfc.predict_proba(X_t_rfc_opt)\n",
    "probs = probs[:,1]\n",
    "fpr, tpr , thresholds = roc_curve(y_test,probs)\n",
    "roc_auc = auc(fpr,tpr)\n",
    "label = 'Random Forest Classifier AUC '+'{0:.2f}'.format(roc_auc)\n",
    "plt.plot(fpr,tpr,c='m',label=label, linewidth =4)\n",
    "# SVM\n",
    "probs = svm.predict_proba(X_test)\n",
    "probs = probs[:,1]\n",
    "fpr, tpr , thresholds = roc_curve(y_test,probs)\n",
    "roc_auc = auc(fpr,tpr)\n",
    "label = 'SVM Classifier AUC '+'{0:.2f}'.format(roc_auc)\n",
    "plt.plot(fpr,tpr,c='y',label=label, linewidth =4)\n",
    "# NB\n",
    "probs = nbc.predict_proba(X_test)\n",
    "probs = probs[:,1]\n",
    "fpr, tpr , thresholds = roc_curve(y_test,probs)\n",
    "roc_auc = auc(fpr,tpr)\n",
    "label = 'Naive Bayes Classifier AUC '+'{0:.2f}'.format(roc_auc)\n",
    "plt.plot(fpr,tpr,c='b',label=label, linewidth =4)\n",
    "\n",
    "plt.xlabel('False Positive Rate',fontsize = 16)\n",
    "plt.ylabel('True Positive Rate',fontsize = 16)\n",
    "plt.title('Receiver Operating Characteristic',fontsize = 16)\n",
    "plt.legend(loc='lower right',fontsize = 16)\n"
   ]
  }
 ],
 "metadata": {
  "kernelspec": {
   "display_name": "Python 3",
   "language": "python",
   "name": "python3"
  },
  "language_info": {
   "codemirror_mode": {
    "name": "ipython",
    "version": 3
   },
   "file_extension": ".py",
   "mimetype": "text/x-python",
   "name": "python",
   "nbconvert_exporter": "python",
   "pygments_lexer": "ipython3",
   "version": "3.7.4"
  }
 },
 "nbformat": 4,
 "nbformat_minor": 2
}
